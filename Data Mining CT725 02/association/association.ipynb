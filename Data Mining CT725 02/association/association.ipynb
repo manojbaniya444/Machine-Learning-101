{
 "cells": [
  {
   "cell_type": "code",
   "execution_count": 2,
   "metadata": {},
   "outputs": [],
   "source": [
    "import pandas as pd\n",
    "from mlxtend.frequent_patterns import apriori, association_rules\n",
    "from mlxtend.preprocessing import TransactionEncoder\n",
    "import pyfpgrowth"
   ]
  },
  {
   "cell_type": "code",
   "execution_count": 9,
   "metadata": {},
   "outputs": [],
   "source": [
    "# dataframe\n",
    "\n",
    "data = {\n",
    "    \"TID\":  [\"T100\", \"T200\", \"T300\", \"T400\", \"T500\", \"T600\", \"T700\", \"T800\", \"T900\"],\n",
    "    \"List of Items\": [\n",
    "        [\"I1\", \"I2\", \"I5\"],\n",
    "        [\"I2\", \"I4\"],\n",
    "        [\"I2\",\"I3\"],\n",
    "        [\"I1\", \"I2\", \"I4\"],\n",
    "        [\"I1\", \"I3\"],\n",
    "        [\"I2\", \"I3\"],\n",
    "        [\"I1\", \"I3\"],\n",
    "        [\"I1\",\"I2\",\"I3\",\"I5\"],\n",
    "        [\"I1\",\"I2\",\"I3\"]\n",
    "    ]\n",
    "}"
   ]
  },
  {
   "cell_type": "code",
   "execution_count": 10,
   "metadata": {},
   "outputs": [],
   "source": [
    "data = pd.DataFrame(data)"
   ]
  },
  {
   "cell_type": "code",
   "execution_count": 11,
   "metadata": {},
   "outputs": [
    {
     "data": {
      "text/html": [
       "<div>\n",
       "<style scoped>\n",
       "    .dataframe tbody tr th:only-of-type {\n",
       "        vertical-align: middle;\n",
       "    }\n",
       "\n",
       "    .dataframe tbody tr th {\n",
       "        vertical-align: top;\n",
       "    }\n",
       "\n",
       "    .dataframe thead th {\n",
       "        text-align: right;\n",
       "    }\n",
       "</style>\n",
       "<table border=\"1\" class=\"dataframe\">\n",
       "  <thead>\n",
       "    <tr style=\"text-align: right;\">\n",
       "      <th></th>\n",
       "      <th>TID</th>\n",
       "      <th>List of Items</th>\n",
       "    </tr>\n",
       "  </thead>\n",
       "  <tbody>\n",
       "    <tr>\n",
       "      <th>0</th>\n",
       "      <td>T100</td>\n",
       "      <td>[I1, I2, I5]</td>\n",
       "    </tr>\n",
       "    <tr>\n",
       "      <th>1</th>\n",
       "      <td>T200</td>\n",
       "      <td>[I2, I4]</td>\n",
       "    </tr>\n",
       "    <tr>\n",
       "      <th>2</th>\n",
       "      <td>T300</td>\n",
       "      <td>[I2, I3]</td>\n",
       "    </tr>\n",
       "    <tr>\n",
       "      <th>3</th>\n",
       "      <td>T400</td>\n",
       "      <td>[I1, I2, I4]</td>\n",
       "    </tr>\n",
       "    <tr>\n",
       "      <th>4</th>\n",
       "      <td>T500</td>\n",
       "      <td>[I1, I3]</td>\n",
       "    </tr>\n",
       "    <tr>\n",
       "      <th>5</th>\n",
       "      <td>T600</td>\n",
       "      <td>[I2, I3]</td>\n",
       "    </tr>\n",
       "    <tr>\n",
       "      <th>6</th>\n",
       "      <td>T700</td>\n",
       "      <td>[I1, I3]</td>\n",
       "    </tr>\n",
       "    <tr>\n",
       "      <th>7</th>\n",
       "      <td>T800</td>\n",
       "      <td>[I1, I2, I3, I5]</td>\n",
       "    </tr>\n",
       "    <tr>\n",
       "      <th>8</th>\n",
       "      <td>T900</td>\n",
       "      <td>[I1, I2, I3]</td>\n",
       "    </tr>\n",
       "  </tbody>\n",
       "</table>\n",
       "</div>"
      ],
      "text/plain": [
       "    TID     List of Items\n",
       "0  T100      [I1, I2, I5]\n",
       "1  T200          [I2, I4]\n",
       "2  T300          [I2, I3]\n",
       "3  T400      [I1, I2, I4]\n",
       "4  T500          [I1, I3]\n",
       "5  T600          [I2, I3]\n",
       "6  T700          [I1, I3]\n",
       "7  T800  [I1, I2, I3, I5]\n",
       "8  T900      [I1, I2, I3]"
      ]
     },
     "execution_count": 11,
     "metadata": {},
     "output_type": "execute_result"
    }
   ],
   "source": [
    "data"
   ]
  },
  {
   "cell_type": "code",
   "execution_count": 13,
   "metadata": {},
   "outputs": [],
   "source": [
    "te = TransactionEncoder()\n",
    "\n",
    "te_ary = te.fit(data[\"List of Items\"]).transform(data[\"List of Items\"])\n",
    "df_onehot = pd.DataFrame(te_ary, columns=te.columns_)"
   ]
  },
  {
   "cell_type": "code",
   "execution_count": 14,
   "metadata": {},
   "outputs": [
    {
     "name": "stdout",
     "output_type": "stream",
     "text": [
      "      I1     I2     I3     I4     I5\n",
      "0   True   True  False  False   True\n",
      "1  False   True  False   True  False\n",
      "2  False   True   True  False  False\n",
      "3   True   True  False   True  False\n",
      "4   True  False   True  False  False\n",
      "5  False   True   True  False  False\n",
      "6   True  False   True  False  False\n",
      "7   True   True   True  False   True\n",
      "8   True   True   True  False  False\n"
     ]
    }
   ],
   "source": [
    "print(df_onehot)"
   ]
  },
  {
   "cell_type": "code",
   "execution_count": 15,
   "metadata": {},
   "outputs": [
    {
     "data": {
      "text/plain": [
       "(9, 5)"
      ]
     },
     "execution_count": 15,
     "metadata": {},
     "output_type": "execute_result"
    }
   ],
   "source": [
    "df_onehot.shape"
   ]
  },
  {
   "cell_type": "markdown",
   "metadata": {},
   "source": [
    "## Apriori"
   ]
  },
  {
   "cell_type": "code",
   "execution_count": 20,
   "metadata": {},
   "outputs": [
    {
     "name": "stdout",
     "output_type": "stream",
     "text": [
      "Frequent Itemsets From Apriori\n",
      "\n",
      "     support   itemsets\n",
      "0   0.666667        (0)\n",
      "1   0.777778        (1)\n",
      "2   0.666667        (2)\n",
      "3   0.222222        (3)\n",
      "4   0.222222        (4)\n",
      "5   0.444444     (0, 1)\n",
      "6   0.444444     (0, 2)\n",
      "7   0.222222     (0, 4)\n",
      "8   0.444444     (1, 2)\n",
      "9   0.222222     (1, 3)\n",
      "10  0.222222     (1, 4)\n",
      "11  0.222222  (0, 1, 2)\n",
      "12  0.222222  (0, 1, 4)\n",
      "\n",
      "\n",
      "\n",
      "______________________________ASSOCIATION RULES______________________________\n",
      "\n",
      "\n",
      "  antecedents consequents  antecedent support  consequent support   support  \\\n",
      "0         (4)         (0)            0.222222            0.666667  0.222222   \n",
      "1         (3)         (1)            0.222222            0.777778  0.222222   \n",
      "2         (4)         (1)            0.222222            0.777778  0.222222   \n",
      "3      (0, 4)         (1)            0.222222            0.777778  0.222222   \n",
      "4      (1, 4)         (0)            0.222222            0.666667  0.222222   \n",
      "5         (4)      (0, 1)            0.222222            0.444444  0.222222   \n",
      "\n",
      "   confidence      lift  leverage  conviction  zhangs_metric  \n",
      "0         1.0  1.500000  0.074074         inf       0.428571  \n",
      "1         1.0  1.285714  0.049383         inf       0.285714  \n",
      "2         1.0  1.285714  0.049383         inf       0.285714  \n",
      "3         1.0  1.285714  0.049383         inf       0.285714  \n",
      "4         1.0  1.500000  0.074074         inf       0.428571  \n",
      "5         1.0  2.250000  0.123457         inf       0.714286  \n",
      "\n",
      "\n"
     ]
    }
   ],
   "source": [
    "# Implementing Apriori\n",
    "\n",
    "min_support = 0.2\n",
    "min_confidence = 0.7\n",
    "\n",
    "frequent_itemsets_apriori = apriori(\n",
    "    df=df_onehot,\n",
    "    min_support=min_support\n",
    ")\n",
    "\n",
    "rules_apriori = association_rules(\n",
    "    frequent_itemsets_apriori,\n",
    "    metric=\"confidence\",\n",
    "    min_threshold=min_confidence\n",
    ")\n",
    "\n",
    "print(\"Frequent Itemsets From Apriori\\n\")\n",
    "print(frequent_itemsets_apriori)\n",
    "\n",
    "print(\"\\n\\n\")\n",
    "\n",
    "print(\"______________________________ASSOCIATION RULES______________________________\\n\\n\")\n",
    "print(rules_apriori)\n",
    "print(\"\\n\")"
   ]
  },
  {
   "cell_type": "markdown",
   "metadata": {},
   "source": [
    "## FP-GROWTH"
   ]
  },
  {
   "cell_type": "code",
   "execution_count": 23,
   "metadata": {},
   "outputs": [
    {
     "name": "stdout",
     "output_type": "stream",
     "text": [
      "[['I1', 'I2', 'I5'], ['I2', 'I4'], ['I2', 'I3'], ['I1', 'I2', 'I4'], ['I1', 'I3'], ['I2', 'I3'], ['I1', 'I3'], ['I1', 'I2', 'I3', 'I5'], ['I1', 'I2', 'I3']]\n"
     ]
    }
   ],
   "source": [
    "transactions = data[\"List of Items\"].tolist()\n",
    "print(transactions)\n"
   ]
  },
  {
   "cell_type": "code",
   "execution_count": 24,
   "metadata": {},
   "outputs": [
    {
     "name": "stdout",
     "output_type": "stream",
     "text": [
      "{('I5',): 2, ('I1', 'I5'): 2, ('I2', 'I5'): 2, ('I3', 'I5'): 1, ('I1', 'I2', 'I5'): 2, ('I1', 'I3', 'I5'): 1, ('I2', 'I3', 'I5'): 1, ('I1', 'I2', 'I3', 'I5'): 1, ('I4',): 2, ('I2', 'I4'): 2, ('I1', 'I4'): 1, ('I1', 'I2', 'I4'): 1, ('I1',): 6, ('I1', 'I2'): 4, ('I2', 'I3'): 4, ('I1', 'I2', 'I3'): 2, ('I1', 'I3'): 4, ('I2',): 7}\n",
      "\n",
      "\n",
      "\n",
      "ASSOCIATION RULES\n",
      "{('I5',): (('I1', 'I2'), 1.0), ('I1', 'I5'): (('I2',), 1.0), ('I2', 'I5'): (('I1',), 1.0), ('I3', 'I5'): (('I1', 'I2'), 1.0), ('I1', 'I3', 'I5'): (('I2',), 1.0), ('I2', 'I3', 'I5'): (('I1',), 1.0), ('I4',): (('I2',), 1.0), ('I1', 'I4'): (('I2',), 1.0)}\n"
     ]
    }
   ],
   "source": [
    "frequent_itemsets_fpgrowth = pyfpgrowth.find_frequent_patterns(\n",
    "    transactions=transactions,\n",
    "    support_threshold=min_support\n",
    ")\n",
    "\n",
    "rules_fpgrowth = pyfpgrowth.generate_association_rules(\n",
    "    frequent_itemsets_fpgrowth,\n",
    "    min_confidence\n",
    ")\n",
    "\n",
    "print(frequent_itemsets_fpgrowth)\n",
    "\n",
    "print(\"\\n\\n\")\n",
    "\n",
    "print(\"ASSOCIATION RULES\")\n",
    "\n",
    "print(rules_fpgrowth)"
   ]
  }
 ],
 "metadata": {
  "kernelspec": {
   "display_name": "Python 3",
   "language": "python",
   "name": "python3"
  },
  "language_info": {
   "codemirror_mode": {
    "name": "ipython",
    "version": 3
   },
   "file_extension": ".py",
   "mimetype": "text/x-python",
   "name": "python",
   "nbconvert_exporter": "python",
   "pygments_lexer": "ipython3",
   "version": "3.12.1"
  }
 },
 "nbformat": 4,
 "nbformat_minor": 2
}
