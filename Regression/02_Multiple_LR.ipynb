{
 "cells": [
  {
   "cell_type": "markdown",
   "id": "c8858214",
   "metadata": {},
   "source": [
    "## Multiple Linear Regression"
   ]
  },
  {
   "cell_type": "code",
   "execution_count": 1,
   "id": "1549aa34",
   "metadata": {},
   "outputs": [],
   "source": [
    "from sklearn.datasets import make_regression\n",
    "import pandas as pd\n",
    "import numpy as np"
   ]
  },
  {
   "cell_type": "code",
   "execution_count": 2,
   "id": "8765d175",
   "metadata": {},
   "outputs": [],
   "source": [
    "X, y = make_regression(n_samples=100, n_features=2, n_informative=2, n_targets=1, noise=50)"
   ]
  },
  {
   "cell_type": "code",
   "execution_count": 3,
   "id": "4277e4ef",
   "metadata": {},
   "outputs": [
    {
     "data": {
      "text/html": [
       "<div>\n",
       "<style scoped>\n",
       "    .dataframe tbody tr th:only-of-type {\n",
       "        vertical-align: middle;\n",
       "    }\n",
       "\n",
       "    .dataframe tbody tr th {\n",
       "        vertical-align: top;\n",
       "    }\n",
       "\n",
       "    .dataframe thead th {\n",
       "        text-align: right;\n",
       "    }\n",
       "</style>\n",
       "<table border=\"1\" class=\"dataframe\">\n",
       "  <thead>\n",
       "    <tr style=\"text-align: right;\">\n",
       "      <th></th>\n",
       "      <th>col1</th>\n",
       "      <th>col2</th>\n",
       "      <th>y</th>\n",
       "    </tr>\n",
       "  </thead>\n",
       "  <tbody>\n",
       "    <tr>\n",
       "      <th>53</th>\n",
       "      <td>0.561640</td>\n",
       "      <td>0.418255</td>\n",
       "      <td>20.498915</td>\n",
       "    </tr>\n",
       "    <tr>\n",
       "      <th>21</th>\n",
       "      <td>-0.137602</td>\n",
       "      <td>0.350884</td>\n",
       "      <td>26.980398</td>\n",
       "    </tr>\n",
       "    <tr>\n",
       "      <th>64</th>\n",
       "      <td>-1.559820</td>\n",
       "      <td>-0.340693</td>\n",
       "      <td>-129.721145</td>\n",
       "    </tr>\n",
       "    <tr>\n",
       "      <th>38</th>\n",
       "      <td>1.238743</td>\n",
       "      <td>1.718682</td>\n",
       "      <td>128.778559</td>\n",
       "    </tr>\n",
       "    <tr>\n",
       "      <th>30</th>\n",
       "      <td>0.137225</td>\n",
       "      <td>-0.316289</td>\n",
       "      <td>-6.136244</td>\n",
       "    </tr>\n",
       "  </tbody>\n",
       "</table>\n",
       "</div>"
      ],
      "text/plain": [
       "        col1      col2           y\n",
       "53  0.561640  0.418255   20.498915\n",
       "21 -0.137602  0.350884   26.980398\n",
       "64 -1.559820 -0.340693 -129.721145\n",
       "38  1.238743  1.718682  128.778559\n",
       "30  0.137225 -0.316289   -6.136244"
      ]
     },
     "execution_count": 3,
     "metadata": {},
     "output_type": "execute_result"
    }
   ],
   "source": [
    "df = pd.DataFrame({\"col1\": X[:, 0], \"col2\": X[:, 1], \"y\": y})\n",
    "df.sample(5)"
   ]
  },
  {
   "cell_type": "code",
   "execution_count": 4,
   "id": "b4673897",
   "metadata": {},
   "outputs": [
    {
     "data": {
      "application/vnd.plotly.v1+json": {
       "config": {
        "plotlyServerURL": "https://plot.ly"
       },
       "data": [
        {
         "hovertemplate": "col1=%{x}<br>col2=%{y}<br>y=%{z}<extra></extra>",
         "legendgroup": "",
         "marker": {
          "color": "#636efa",
          "symbol": "circle"
         },
         "mode": "markers",
         "name": "",
         "scene": "scene",
         "showlegend": false,
         "type": "scatter3d",
         "x": {
          "bdata": "GFEJo1de7b/LX4Fn3HHrv6y2oJfDBdi/9DpTkhpf6798OcH70mCiv5dUT+gT3fg/hKR58MnFrD9FmxL3uGWhP2A/phtmTNC/5AVeDjnCwr+la8G3ojLkPzxch+ePjuO/gVkqsTmY8D+yJ2duZ3rXPxe3cWMhLNk/nuisLNG71T90dJB4ZH++vwxm/ouO3OO/bnQjIbqexT9o5w7vWajSv6JYDCJ4S68/UZT/YfScwb+XXRdBpS/RPwPzaU8RZt8/eZOUExO4478j+uxwLB70v6WWbYFraPE/B2ati8+L8z8O4WYd98zQv/CfXIv28Og/c4+DPZaQwT/aViUcrJLbv5IcVcYuqQBA9JJx8Yzs0z/KxuOKCiv2P8etGAXUevy/fORmcMU99T/D8B4NvsEDQBC0L1Pk0fM/GxAkj3vH1L+EIV9Cqx6xPxrdmqf7Gtw/Gu75Lx773T9FFLsd8uW5v0dnUxswzOs/hbst8cgK9L9v9fmdnMb7PxzQ30cskNA/TLoQlHUstb9beCxXm73tPzpHnu8D9uM/XLVUMwv2uD9dfcikmCLmv+ztBczz+OE/vg9WlLYS0T8JiO8nf0zoP/xFZWXgdd6/ohQf3YdO/b+ujrbAcTrRv/0F2ee6kuE/FaDqyV7W3T9+IPR9dtjlv4v5hAddCPS/QbRm09iCAcBN25clBvX4v9Ojg6LvXPO/HmVULZ6aqT8kB9/OkisCQADpCB265OK/BqfRDAzX8z8600n9JqQHQMD/csOsA+i/s6tCA9a/779iV9Z/+vX3P/qxMBEeou0/uEq5ilop6b/eHbvErdXSv3rWMzoMksC/qu85GOkq979Yk15xAc/svwcdq5cUuee/61SwuV4I8D/1ReS+t+HhvxmcuO65vLM/0L6zMEHw7D+1dJyoXhrmv5Jsnhl5t8g/PZprQ/kl5D+n/iKn8kLVv2ulmYiww+s/utJcm6VQ8z/rvlZMOTDvP4mRQlub/PU/hqKoUCCK9L9vh+7YSprrP+r3BbbzheA/yeogijXowz9PLN5xIswFQL5U1xa8iNA/gaeJUmrl6T8=",
          "dtype": "f8"
         },
         "y": {
          "bdata": "v88pHOeH8L8pGoyJbcKpP0+MQeQMjNY/rRePKl0dzD9gYxzt+LzqPzlJXgvQmsi/K4QoMJRi178Fe4ors0vCP4G7dZKGfcC/fcqgh9Vd8j+iPiNALrzjP+DLDFLmxOI/gi3oEs2M0b8zdIWVuRn9v0uwoa+RKtI/KtyB9XK++b+cljl0PG75P1soIirovPc/tLoVlYFAl7+DyqvCC/LMP3eo8Ip3qse/Iql1a+F01j9qUSqSi9XzPy7m2AYLe9g/zteSnP7z6L8bLCovmOTivytBUSWzf9W/MiOiGfQEpr+loId08y6ev/jnFwepSug/csBalxI+1L9MydtB2kjHP0vFH8vqO/G/KPdch7LN67+49o3o8b/0P6epjtuPD+I/ycGmtoOH8b9bOq5l8I7LP4jWL/a4f/s/NQyjQ/M74b9CWZmxAQnrv+8mNTT3SM2/WV3GRo+Z6j/XaIPmx7/rv3sMCIZij7C/2rZW3T1G9r9W9IqpgyX7P5edth6OpOk/fsbIm1g+rr9zJpUMow7nvzIIFgaEjqc/dWuUyK+U+j9lhiAJgB3TP/0ur+GuxNo/mNBD1UZQ9L8e+uXLhlPsv+iT939e/OA/mtqYsKV30D+LZt5d0pneP9iNJVUdovE/oJ3fixtj9j+50RosU4zhvx2j/3KrWfU/KIV9dAU2AcA2b7/N6M3Vv7Wq3Wb29tW/5M9T5OTt878jzEyX/HgEwOqkCATyJ+E/K4t8L2/R0j+m8bFutLfhvw4nHkrO86Y/qQom9IhV9T9dPXd1RFTtPwHgNsG9efc/STjnJYcvwD+yrB7Dzgnkv9WHCjl3mvA/GAoMrUlX+j/6RsBqhZ+6PxdTIFgM1vU/R+liy7zI/D8d1R3P08rfP1KtUlwWz+c/LVaYDBClzr/fTwcj5O/5P4O0qp2V7vO/E/9vdWOj7T9P9Nqlczz0P2cj5pb15c+/IKkxlqKf6T9ohAc2Tjq3v3cnI/3h8tY/4ymzMlao9j+oBVoklXC+P3+Rp6udAe+/TedJ+ONrrD80GKyN7YjTv8NU9QbOUZE/x5zV3vHU8j8=",
          "dtype": "f8"
         },
         "z": {
          "bdata": "zAa0QTjCUsBrbU0v625UwAsX7I4qZzLAvHsAiih7PMAeHS8QIA4oQOHLmOwqNWFAVxne5RgVLsBCTX4tzUtCQNMFF+RA8U3AuxVXXBAARUBvCDCR/LdmQCauq2LtFjvAzekock2DTkBzkF3r4ZtQwFjgkbzqiURAb6AXUOMJU8CI29f82IgcQM2zZVeIpFxAD6NoEXRsUkDNwY32aAQ6QPiN8GaiTFNA1io7Xvv6OkBwB2td1JYXQBaQmgGwqVRAs5rq10bFUMACR59haOFrwGYXRKF8rSpAWKTac2m7RkA7xlIxTElQQOzWktgs+kZAi5CvmYOLGMA/rHdD4p5DQP/VC0LaWFFA8z0QUyBLVsCI+ykZHqdcQKw7AQsQ6mXAlspZmSn+NEBWRqdmdjhmQLlok/PpGGBAJeIMXZfCM8Ci+ovGUusowPqomkdgBDdAfknQV5ZNMkB0vN/KfMVCwGieSx242VVARsQYzp4bUsD6taZzzXlpQJYJA/kci1FAu2HjLi/DRUBKJpPeLc45wLxHVFe85UXAEEF2X/zJVUDoH8iwAMxMwDdkMuG4fzRATCK9UFc1U8DTcCLfsko2QGgCCWq+6ELAUM4NzSkRW8DkWZIpne9QQHqjoxxHOl9AQCIuBxBQUUClJJwwexxQwPNWkoG3TlZAJN8f5S1KcsCOvXqfEzdgwF54QCrmamLAXI7jQbamWMCPwk8bCtQvwEhBfyXurSjA8s9RMEc4XUDM51NoopdYQAgkWE8taTtAK/j4iM1mHEDCoIDnt5thQEUN6xtZ0FBAsJ1DYUyXSsCl/U/N0lIywKD8x+MrFhbA7vTFuHLjMkAtQjuR+6tEwMAWDDypgkHA9xybkTp6YkC7he6aCDhFQIrSJp8PFlJAABy51y8mHcDR0vRrvDA+QOQUfRoiHyTA3VMFKEdPZEC+60TBycU7wPiqe3iFa0PAIFV12J++SUCOu7uTs9U+QGSGwUGQUVpAKdOiGAatXUCgYeY2RC88QABPuB8YBylA/xUo8v02QUDZ1/mf1IpjQOvYd543TFFAjft062yaWkA=",
          "dtype": "f8"
         }
        }
       ],
       "layout": {
        "legend": {
         "tracegroupgap": 0
        },
        "margin": {
         "t": 60
        },
        "scene": {
         "domain": {
          "x": [
           0,
           1
          ],
          "y": [
           0,
           1
          ]
         },
         "xaxis": {
          "title": {
           "text": "col1"
          }
         },
         "yaxis": {
          "title": {
           "text": "col2"
          }
         },
         "zaxis": {
          "title": {
           "text": "y"
          }
         }
        },
        "template": {
         "data": {
          "bar": [
           {
            "error_x": {
             "color": "#2a3f5f"
            },
            "error_y": {
             "color": "#2a3f5f"
            },
            "marker": {
             "line": {
              "color": "#E5ECF6",
              "width": 0.5
             },
             "pattern": {
              "fillmode": "overlay",
              "size": 10,
              "solidity": 0.2
             }
            },
            "type": "bar"
           }
          ],
          "barpolar": [
           {
            "marker": {
             "line": {
              "color": "#E5ECF6",
              "width": 0.5
             },
             "pattern": {
              "fillmode": "overlay",
              "size": 10,
              "solidity": 0.2
             }
            },
            "type": "barpolar"
           }
          ],
          "carpet": [
           {
            "aaxis": {
             "endlinecolor": "#2a3f5f",
             "gridcolor": "white",
             "linecolor": "white",
             "minorgridcolor": "white",
             "startlinecolor": "#2a3f5f"
            },
            "baxis": {
             "endlinecolor": "#2a3f5f",
             "gridcolor": "white",
             "linecolor": "white",
             "minorgridcolor": "white",
             "startlinecolor": "#2a3f5f"
            },
            "type": "carpet"
           }
          ],
          "choropleth": [
           {
            "colorbar": {
             "outlinewidth": 0,
             "ticks": ""
            },
            "type": "choropleth"
           }
          ],
          "contour": [
           {
            "colorbar": {
             "outlinewidth": 0,
             "ticks": ""
            },
            "colorscale": [
             [
              0,
              "#0d0887"
             ],
             [
              0.1111111111111111,
              "#46039f"
             ],
             [
              0.2222222222222222,
              "#7201a8"
             ],
             [
              0.3333333333333333,
              "#9c179e"
             ],
             [
              0.4444444444444444,
              "#bd3786"
             ],
             [
              0.5555555555555556,
              "#d8576b"
             ],
             [
              0.6666666666666666,
              "#ed7953"
             ],
             [
              0.7777777777777778,
              "#fb9f3a"
             ],
             [
              0.8888888888888888,
              "#fdca26"
             ],
             [
              1,
              "#f0f921"
             ]
            ],
            "type": "contour"
           }
          ],
          "contourcarpet": [
           {
            "colorbar": {
             "outlinewidth": 0,
             "ticks": ""
            },
            "type": "contourcarpet"
           }
          ],
          "heatmap": [
           {
            "colorbar": {
             "outlinewidth": 0,
             "ticks": ""
            },
            "colorscale": [
             [
              0,
              "#0d0887"
             ],
             [
              0.1111111111111111,
              "#46039f"
             ],
             [
              0.2222222222222222,
              "#7201a8"
             ],
             [
              0.3333333333333333,
              "#9c179e"
             ],
             [
              0.4444444444444444,
              "#bd3786"
             ],
             [
              0.5555555555555556,
              "#d8576b"
             ],
             [
              0.6666666666666666,
              "#ed7953"
             ],
             [
              0.7777777777777778,
              "#fb9f3a"
             ],
             [
              0.8888888888888888,
              "#fdca26"
             ],
             [
              1,
              "#f0f921"
             ]
            ],
            "type": "heatmap"
           }
          ],
          "histogram": [
           {
            "marker": {
             "pattern": {
              "fillmode": "overlay",
              "size": 10,
              "solidity": 0.2
             }
            },
            "type": "histogram"
           }
          ],
          "histogram2d": [
           {
            "colorbar": {
             "outlinewidth": 0,
             "ticks": ""
            },
            "colorscale": [
             [
              0,
              "#0d0887"
             ],
             [
              0.1111111111111111,
              "#46039f"
             ],
             [
              0.2222222222222222,
              "#7201a8"
             ],
             [
              0.3333333333333333,
              "#9c179e"
             ],
             [
              0.4444444444444444,
              "#bd3786"
             ],
             [
              0.5555555555555556,
              "#d8576b"
             ],
             [
              0.6666666666666666,
              "#ed7953"
             ],
             [
              0.7777777777777778,
              "#fb9f3a"
             ],
             [
              0.8888888888888888,
              "#fdca26"
             ],
             [
              1,
              "#f0f921"
             ]
            ],
            "type": "histogram2d"
           }
          ],
          "histogram2dcontour": [
           {
            "colorbar": {
             "outlinewidth": 0,
             "ticks": ""
            },
            "colorscale": [
             [
              0,
              "#0d0887"
             ],
             [
              0.1111111111111111,
              "#46039f"
             ],
             [
              0.2222222222222222,
              "#7201a8"
             ],
             [
              0.3333333333333333,
              "#9c179e"
             ],
             [
              0.4444444444444444,
              "#bd3786"
             ],
             [
              0.5555555555555556,
              "#d8576b"
             ],
             [
              0.6666666666666666,
              "#ed7953"
             ],
             [
              0.7777777777777778,
              "#fb9f3a"
             ],
             [
              0.8888888888888888,
              "#fdca26"
             ],
             [
              1,
              "#f0f921"
             ]
            ],
            "type": "histogram2dcontour"
           }
          ],
          "mesh3d": [
           {
            "colorbar": {
             "outlinewidth": 0,
             "ticks": ""
            },
            "type": "mesh3d"
           }
          ],
          "parcoords": [
           {
            "line": {
             "colorbar": {
              "outlinewidth": 0,
              "ticks": ""
             }
            },
            "type": "parcoords"
           }
          ],
          "pie": [
           {
            "automargin": true,
            "type": "pie"
           }
          ],
          "scatter": [
           {
            "fillpattern": {
             "fillmode": "overlay",
             "size": 10,
             "solidity": 0.2
            },
            "type": "scatter"
           }
          ],
          "scatter3d": [
           {
            "line": {
             "colorbar": {
              "outlinewidth": 0,
              "ticks": ""
             }
            },
            "marker": {
             "colorbar": {
              "outlinewidth": 0,
              "ticks": ""
             }
            },
            "type": "scatter3d"
           }
          ],
          "scattercarpet": [
           {
            "marker": {
             "colorbar": {
              "outlinewidth": 0,
              "ticks": ""
             }
            },
            "type": "scattercarpet"
           }
          ],
          "scattergeo": [
           {
            "marker": {
             "colorbar": {
              "outlinewidth": 0,
              "ticks": ""
             }
            },
            "type": "scattergeo"
           }
          ],
          "scattergl": [
           {
            "marker": {
             "colorbar": {
              "outlinewidth": 0,
              "ticks": ""
             }
            },
            "type": "scattergl"
           }
          ],
          "scattermap": [
           {
            "marker": {
             "colorbar": {
              "outlinewidth": 0,
              "ticks": ""
             }
            },
            "type": "scattermap"
           }
          ],
          "scattermapbox": [
           {
            "marker": {
             "colorbar": {
              "outlinewidth": 0,
              "ticks": ""
             }
            },
            "type": "scattermapbox"
           }
          ],
          "scatterpolar": [
           {
            "marker": {
             "colorbar": {
              "outlinewidth": 0,
              "ticks": ""
             }
            },
            "type": "scatterpolar"
           }
          ],
          "scatterpolargl": [
           {
            "marker": {
             "colorbar": {
              "outlinewidth": 0,
              "ticks": ""
             }
            },
            "type": "scatterpolargl"
           }
          ],
          "scatterternary": [
           {
            "marker": {
             "colorbar": {
              "outlinewidth": 0,
              "ticks": ""
             }
            },
            "type": "scatterternary"
           }
          ],
          "surface": [
           {
            "colorbar": {
             "outlinewidth": 0,
             "ticks": ""
            },
            "colorscale": [
             [
              0,
              "#0d0887"
             ],
             [
              0.1111111111111111,
              "#46039f"
             ],
             [
              0.2222222222222222,
              "#7201a8"
             ],
             [
              0.3333333333333333,
              "#9c179e"
             ],
             [
              0.4444444444444444,
              "#bd3786"
             ],
             [
              0.5555555555555556,
              "#d8576b"
             ],
             [
              0.6666666666666666,
              "#ed7953"
             ],
             [
              0.7777777777777778,
              "#fb9f3a"
             ],
             [
              0.8888888888888888,
              "#fdca26"
             ],
             [
              1,
              "#f0f921"
             ]
            ],
            "type": "surface"
           }
          ],
          "table": [
           {
            "cells": {
             "fill": {
              "color": "#EBF0F8"
             },
             "line": {
              "color": "white"
             }
            },
            "header": {
             "fill": {
              "color": "#C8D4E3"
             },
             "line": {
              "color": "white"
             }
            },
            "type": "table"
           }
          ]
         },
         "layout": {
          "annotationdefaults": {
           "arrowcolor": "#2a3f5f",
           "arrowhead": 0,
           "arrowwidth": 1
          },
          "autotypenumbers": "strict",
          "coloraxis": {
           "colorbar": {
            "outlinewidth": 0,
            "ticks": ""
           }
          },
          "colorscale": {
           "diverging": [
            [
             0,
             "#8e0152"
            ],
            [
             0.1,
             "#c51b7d"
            ],
            [
             0.2,
             "#de77ae"
            ],
            [
             0.3,
             "#f1b6da"
            ],
            [
             0.4,
             "#fde0ef"
            ],
            [
             0.5,
             "#f7f7f7"
            ],
            [
             0.6,
             "#e6f5d0"
            ],
            [
             0.7,
             "#b8e186"
            ],
            [
             0.8,
             "#7fbc41"
            ],
            [
             0.9,
             "#4d9221"
            ],
            [
             1,
             "#276419"
            ]
           ],
           "sequential": [
            [
             0,
             "#0d0887"
            ],
            [
             0.1111111111111111,
             "#46039f"
            ],
            [
             0.2222222222222222,
             "#7201a8"
            ],
            [
             0.3333333333333333,
             "#9c179e"
            ],
            [
             0.4444444444444444,
             "#bd3786"
            ],
            [
             0.5555555555555556,
             "#d8576b"
            ],
            [
             0.6666666666666666,
             "#ed7953"
            ],
            [
             0.7777777777777778,
             "#fb9f3a"
            ],
            [
             0.8888888888888888,
             "#fdca26"
            ],
            [
             1,
             "#f0f921"
            ]
           ],
           "sequentialminus": [
            [
             0,
             "#0d0887"
            ],
            [
             0.1111111111111111,
             "#46039f"
            ],
            [
             0.2222222222222222,
             "#7201a8"
            ],
            [
             0.3333333333333333,
             "#9c179e"
            ],
            [
             0.4444444444444444,
             "#bd3786"
            ],
            [
             0.5555555555555556,
             "#d8576b"
            ],
            [
             0.6666666666666666,
             "#ed7953"
            ],
            [
             0.7777777777777778,
             "#fb9f3a"
            ],
            [
             0.8888888888888888,
             "#fdca26"
            ],
            [
             1,
             "#f0f921"
            ]
           ]
          },
          "colorway": [
           "#636efa",
           "#EF553B",
           "#00cc96",
           "#ab63fa",
           "#FFA15A",
           "#19d3f3",
           "#FF6692",
           "#B6E880",
           "#FF97FF",
           "#FECB52"
          ],
          "font": {
           "color": "#2a3f5f"
          },
          "geo": {
           "bgcolor": "white",
           "lakecolor": "white",
           "landcolor": "#E5ECF6",
           "showlakes": true,
           "showland": true,
           "subunitcolor": "white"
          },
          "hoverlabel": {
           "align": "left"
          },
          "hovermode": "closest",
          "mapbox": {
           "style": "light"
          },
          "paper_bgcolor": "white",
          "plot_bgcolor": "#E5ECF6",
          "polar": {
           "angularaxis": {
            "gridcolor": "white",
            "linecolor": "white",
            "ticks": ""
           },
           "bgcolor": "#E5ECF6",
           "radialaxis": {
            "gridcolor": "white",
            "linecolor": "white",
            "ticks": ""
           }
          },
          "scene": {
           "xaxis": {
            "backgroundcolor": "#E5ECF6",
            "gridcolor": "white",
            "gridwidth": 2,
            "linecolor": "white",
            "showbackground": true,
            "ticks": "",
            "zerolinecolor": "white"
           },
           "yaxis": {
            "backgroundcolor": "#E5ECF6",
            "gridcolor": "white",
            "gridwidth": 2,
            "linecolor": "white",
            "showbackground": true,
            "ticks": "",
            "zerolinecolor": "white"
           },
           "zaxis": {
            "backgroundcolor": "#E5ECF6",
            "gridcolor": "white",
            "gridwidth": 2,
            "linecolor": "white",
            "showbackground": true,
            "ticks": "",
            "zerolinecolor": "white"
           }
          },
          "shapedefaults": {
           "line": {
            "color": "#2a3f5f"
           }
          },
          "ternary": {
           "aaxis": {
            "gridcolor": "white",
            "linecolor": "white",
            "ticks": ""
           },
           "baxis": {
            "gridcolor": "white",
            "linecolor": "white",
            "ticks": ""
           },
           "bgcolor": "#E5ECF6",
           "caxis": {
            "gridcolor": "white",
            "linecolor": "white",
            "ticks": ""
           }
          },
          "title": {
           "x": 0.05
          },
          "xaxis": {
           "automargin": true,
           "gridcolor": "white",
           "linecolor": "white",
           "ticks": "",
           "title": {
            "standoff": 15
           },
           "zerolinecolor": "white",
           "zerolinewidth": 2
          },
          "yaxis": {
           "automargin": true,
           "gridcolor": "white",
           "linecolor": "white",
           "ticks": "",
           "title": {
            "standoff": 15
           },
           "zerolinecolor": "white",
           "zerolinewidth": 2
          }
         }
        }
       }
      }
     },
     "metadata": {},
     "output_type": "display_data"
    }
   ],
   "source": [
    "import plotly.express as px\n",
    "\n",
    "fig = px.scatter_3d(df, x=\"col1\", y=\"col2\", z=\"y\")\n",
    "fig.show()"
   ]
  },
  {
   "cell_type": "markdown",
   "id": "52cbee8f",
   "metadata": {},
   "source": [
    "## Linear Regression"
   ]
  },
  {
   "cell_type": "code",
   "execution_count": 5,
   "id": "68de3e45",
   "metadata": {},
   "outputs": [],
   "source": [
    "from sklearn.model_selection import train_test_split\n",
    "\n",
    "X_train, X_test, y_train, y_test = train_test_split(X, y, test_size=0.2, random_state=40)"
   ]
  },
  {
   "cell_type": "code",
   "execution_count": 6,
   "id": "6abbdfdb",
   "metadata": {},
   "outputs": [
    {
     "data": {
      "text/html": [
       "<style>#sk-container-id-1 {\n",
       "  /* Definition of color scheme common for light and dark mode */\n",
       "  --sklearn-color-text: black;\n",
       "  --sklearn-color-line: gray;\n",
       "  /* Definition of color scheme for unfitted estimators */\n",
       "  --sklearn-color-unfitted-level-0: #fff5e6;\n",
       "  --sklearn-color-unfitted-level-1: #f6e4d2;\n",
       "  --sklearn-color-unfitted-level-2: #ffe0b3;\n",
       "  --sklearn-color-unfitted-level-3: chocolate;\n",
       "  /* Definition of color scheme for fitted estimators */\n",
       "  --sklearn-color-fitted-level-0: #f0f8ff;\n",
       "  --sklearn-color-fitted-level-1: #d4ebff;\n",
       "  --sklearn-color-fitted-level-2: #b3dbfd;\n",
       "  --sklearn-color-fitted-level-3: cornflowerblue;\n",
       "\n",
       "  /* Specific color for light theme */\n",
       "  --sklearn-color-text-on-default-background: var(--sg-text-color, var(--theme-code-foreground, var(--jp-content-font-color1, black)));\n",
       "  --sklearn-color-background: var(--sg-background-color, var(--theme-background, var(--jp-layout-color0, white)));\n",
       "  --sklearn-color-border-box: var(--sg-text-color, var(--theme-code-foreground, var(--jp-content-font-color1, black)));\n",
       "  --sklearn-color-icon: #696969;\n",
       "\n",
       "  @media (prefers-color-scheme: dark) {\n",
       "    /* Redefinition of color scheme for dark theme */\n",
       "    --sklearn-color-text-on-default-background: var(--sg-text-color, var(--theme-code-foreground, var(--jp-content-font-color1, white)));\n",
       "    --sklearn-color-background: var(--sg-background-color, var(--theme-background, var(--jp-layout-color0, #111)));\n",
       "    --sklearn-color-border-box: var(--sg-text-color, var(--theme-code-foreground, var(--jp-content-font-color1, white)));\n",
       "    --sklearn-color-icon: #878787;\n",
       "  }\n",
       "}\n",
       "\n",
       "#sk-container-id-1 {\n",
       "  color: var(--sklearn-color-text);\n",
       "}\n",
       "\n",
       "#sk-container-id-1 pre {\n",
       "  padding: 0;\n",
       "}\n",
       "\n",
       "#sk-container-id-1 input.sk-hidden--visually {\n",
       "  border: 0;\n",
       "  clip: rect(1px 1px 1px 1px);\n",
       "  clip: rect(1px, 1px, 1px, 1px);\n",
       "  height: 1px;\n",
       "  margin: -1px;\n",
       "  overflow: hidden;\n",
       "  padding: 0;\n",
       "  position: absolute;\n",
       "  width: 1px;\n",
       "}\n",
       "\n",
       "#sk-container-id-1 div.sk-dashed-wrapped {\n",
       "  border: 1px dashed var(--sklearn-color-line);\n",
       "  margin: 0 0.4em 0.5em 0.4em;\n",
       "  box-sizing: border-box;\n",
       "  padding-bottom: 0.4em;\n",
       "  background-color: var(--sklearn-color-background);\n",
       "}\n",
       "\n",
       "#sk-container-id-1 div.sk-container {\n",
       "  /* jupyter's `normalize.less` sets `[hidden] { display: none; }`\n",
       "     but bootstrap.min.css set `[hidden] { display: none !important; }`\n",
       "     so we also need the `!important` here to be able to override the\n",
       "     default hidden behavior on the sphinx rendered scikit-learn.org.\n",
       "     See: https://github.com/scikit-learn/scikit-learn/issues/21755 */\n",
       "  display: inline-block !important;\n",
       "  position: relative;\n",
       "}\n",
       "\n",
       "#sk-container-id-1 div.sk-text-repr-fallback {\n",
       "  display: none;\n",
       "}\n",
       "\n",
       "div.sk-parallel-item,\n",
       "div.sk-serial,\n",
       "div.sk-item {\n",
       "  /* draw centered vertical line to link estimators */\n",
       "  background-image: linear-gradient(var(--sklearn-color-text-on-default-background), var(--sklearn-color-text-on-default-background));\n",
       "  background-size: 2px 100%;\n",
       "  background-repeat: no-repeat;\n",
       "  background-position: center center;\n",
       "}\n",
       "\n",
       "/* Parallel-specific style estimator block */\n",
       "\n",
       "#sk-container-id-1 div.sk-parallel-item::after {\n",
       "  content: \"\";\n",
       "  width: 100%;\n",
       "  border-bottom: 2px solid var(--sklearn-color-text-on-default-background);\n",
       "  flex-grow: 1;\n",
       "}\n",
       "\n",
       "#sk-container-id-1 div.sk-parallel {\n",
       "  display: flex;\n",
       "  align-items: stretch;\n",
       "  justify-content: center;\n",
       "  background-color: var(--sklearn-color-background);\n",
       "  position: relative;\n",
       "}\n",
       "\n",
       "#sk-container-id-1 div.sk-parallel-item {\n",
       "  display: flex;\n",
       "  flex-direction: column;\n",
       "}\n",
       "\n",
       "#sk-container-id-1 div.sk-parallel-item:first-child::after {\n",
       "  align-self: flex-end;\n",
       "  width: 50%;\n",
       "}\n",
       "\n",
       "#sk-container-id-1 div.sk-parallel-item:last-child::after {\n",
       "  align-self: flex-start;\n",
       "  width: 50%;\n",
       "}\n",
       "\n",
       "#sk-container-id-1 div.sk-parallel-item:only-child::after {\n",
       "  width: 0;\n",
       "}\n",
       "\n",
       "/* Serial-specific style estimator block */\n",
       "\n",
       "#sk-container-id-1 div.sk-serial {\n",
       "  display: flex;\n",
       "  flex-direction: column;\n",
       "  align-items: center;\n",
       "  background-color: var(--sklearn-color-background);\n",
       "  padding-right: 1em;\n",
       "  padding-left: 1em;\n",
       "}\n",
       "\n",
       "\n",
       "/* Toggleable style: style used for estimator/Pipeline/ColumnTransformer box that is\n",
       "clickable and can be expanded/collapsed.\n",
       "- Pipeline and ColumnTransformer use this feature and define the default style\n",
       "- Estimators will overwrite some part of the style using the `sk-estimator` class\n",
       "*/\n",
       "\n",
       "/* Pipeline and ColumnTransformer style (default) */\n",
       "\n",
       "#sk-container-id-1 div.sk-toggleable {\n",
       "  /* Default theme specific background. It is overwritten whether we have a\n",
       "  specific estimator or a Pipeline/ColumnTransformer */\n",
       "  background-color: var(--sklearn-color-background);\n",
       "}\n",
       "\n",
       "/* Toggleable label */\n",
       "#sk-container-id-1 label.sk-toggleable__label {\n",
       "  cursor: pointer;\n",
       "  display: block;\n",
       "  width: 100%;\n",
       "  margin-bottom: 0;\n",
       "  padding: 0.5em;\n",
       "  box-sizing: border-box;\n",
       "  text-align: center;\n",
       "}\n",
       "\n",
       "#sk-container-id-1 label.sk-toggleable__label-arrow:before {\n",
       "  /* Arrow on the left of the label */\n",
       "  content: \"▸\";\n",
       "  float: left;\n",
       "  margin-right: 0.25em;\n",
       "  color: var(--sklearn-color-icon);\n",
       "}\n",
       "\n",
       "#sk-container-id-1 label.sk-toggleable__label-arrow:hover:before {\n",
       "  color: var(--sklearn-color-text);\n",
       "}\n",
       "\n",
       "/* Toggleable content - dropdown */\n",
       "\n",
       "#sk-container-id-1 div.sk-toggleable__content {\n",
       "  max-height: 0;\n",
       "  max-width: 0;\n",
       "  overflow: hidden;\n",
       "  text-align: left;\n",
       "  /* unfitted */\n",
       "  background-color: var(--sklearn-color-unfitted-level-0);\n",
       "}\n",
       "\n",
       "#sk-container-id-1 div.sk-toggleable__content.fitted {\n",
       "  /* fitted */\n",
       "  background-color: var(--sklearn-color-fitted-level-0);\n",
       "}\n",
       "\n",
       "#sk-container-id-1 div.sk-toggleable__content pre {\n",
       "  margin: 0.2em;\n",
       "  border-radius: 0.25em;\n",
       "  color: var(--sklearn-color-text);\n",
       "  /* unfitted */\n",
       "  background-color: var(--sklearn-color-unfitted-level-0);\n",
       "}\n",
       "\n",
       "#sk-container-id-1 div.sk-toggleable__content.fitted pre {\n",
       "  /* unfitted */\n",
       "  background-color: var(--sklearn-color-fitted-level-0);\n",
       "}\n",
       "\n",
       "#sk-container-id-1 input.sk-toggleable__control:checked~div.sk-toggleable__content {\n",
       "  /* Expand drop-down */\n",
       "  max-height: 200px;\n",
       "  max-width: 100%;\n",
       "  overflow: auto;\n",
       "}\n",
       "\n",
       "#sk-container-id-1 input.sk-toggleable__control:checked~label.sk-toggleable__label-arrow:before {\n",
       "  content: \"▾\";\n",
       "}\n",
       "\n",
       "/* Pipeline/ColumnTransformer-specific style */\n",
       "\n",
       "#sk-container-id-1 div.sk-label input.sk-toggleable__control:checked~label.sk-toggleable__label {\n",
       "  color: var(--sklearn-color-text);\n",
       "  background-color: var(--sklearn-color-unfitted-level-2);\n",
       "}\n",
       "\n",
       "#sk-container-id-1 div.sk-label.fitted input.sk-toggleable__control:checked~label.sk-toggleable__label {\n",
       "  background-color: var(--sklearn-color-fitted-level-2);\n",
       "}\n",
       "\n",
       "/* Estimator-specific style */\n",
       "\n",
       "/* Colorize estimator box */\n",
       "#sk-container-id-1 div.sk-estimator input.sk-toggleable__control:checked~label.sk-toggleable__label {\n",
       "  /* unfitted */\n",
       "  background-color: var(--sklearn-color-unfitted-level-2);\n",
       "}\n",
       "\n",
       "#sk-container-id-1 div.sk-estimator.fitted input.sk-toggleable__control:checked~label.sk-toggleable__label {\n",
       "  /* fitted */\n",
       "  background-color: var(--sklearn-color-fitted-level-2);\n",
       "}\n",
       "\n",
       "#sk-container-id-1 div.sk-label label.sk-toggleable__label,\n",
       "#sk-container-id-1 div.sk-label label {\n",
       "  /* The background is the default theme color */\n",
       "  color: var(--sklearn-color-text-on-default-background);\n",
       "}\n",
       "\n",
       "/* On hover, darken the color of the background */\n",
       "#sk-container-id-1 div.sk-label:hover label.sk-toggleable__label {\n",
       "  color: var(--sklearn-color-text);\n",
       "  background-color: var(--sklearn-color-unfitted-level-2);\n",
       "}\n",
       "\n",
       "/* Label box, darken color on hover, fitted */\n",
       "#sk-container-id-1 div.sk-label.fitted:hover label.sk-toggleable__label.fitted {\n",
       "  color: var(--sklearn-color-text);\n",
       "  background-color: var(--sklearn-color-fitted-level-2);\n",
       "}\n",
       "\n",
       "/* Estimator label */\n",
       "\n",
       "#sk-container-id-1 div.sk-label label {\n",
       "  font-family: monospace;\n",
       "  font-weight: bold;\n",
       "  display: inline-block;\n",
       "  line-height: 1.2em;\n",
       "}\n",
       "\n",
       "#sk-container-id-1 div.sk-label-container {\n",
       "  text-align: center;\n",
       "}\n",
       "\n",
       "/* Estimator-specific */\n",
       "#sk-container-id-1 div.sk-estimator {\n",
       "  font-family: monospace;\n",
       "  border: 1px dotted var(--sklearn-color-border-box);\n",
       "  border-radius: 0.25em;\n",
       "  box-sizing: border-box;\n",
       "  margin-bottom: 0.5em;\n",
       "  /* unfitted */\n",
       "  background-color: var(--sklearn-color-unfitted-level-0);\n",
       "}\n",
       "\n",
       "#sk-container-id-1 div.sk-estimator.fitted {\n",
       "  /* fitted */\n",
       "  background-color: var(--sklearn-color-fitted-level-0);\n",
       "}\n",
       "\n",
       "/* on hover */\n",
       "#sk-container-id-1 div.sk-estimator:hover {\n",
       "  /* unfitted */\n",
       "  background-color: var(--sklearn-color-unfitted-level-2);\n",
       "}\n",
       "\n",
       "#sk-container-id-1 div.sk-estimator.fitted:hover {\n",
       "  /* fitted */\n",
       "  background-color: var(--sklearn-color-fitted-level-2);\n",
       "}\n",
       "\n",
       "/* Specification for estimator info (e.g. \"i\" and \"?\") */\n",
       "\n",
       "/* Common style for \"i\" and \"?\" */\n",
       "\n",
       ".sk-estimator-doc-link,\n",
       "a:link.sk-estimator-doc-link,\n",
       "a:visited.sk-estimator-doc-link {\n",
       "  float: right;\n",
       "  font-size: smaller;\n",
       "  line-height: 1em;\n",
       "  font-family: monospace;\n",
       "  background-color: var(--sklearn-color-background);\n",
       "  border-radius: 1em;\n",
       "  height: 1em;\n",
       "  width: 1em;\n",
       "  text-decoration: none !important;\n",
       "  margin-left: 1ex;\n",
       "  /* unfitted */\n",
       "  border: var(--sklearn-color-unfitted-level-1) 1pt solid;\n",
       "  color: var(--sklearn-color-unfitted-level-1);\n",
       "}\n",
       "\n",
       ".sk-estimator-doc-link.fitted,\n",
       "a:link.sk-estimator-doc-link.fitted,\n",
       "a:visited.sk-estimator-doc-link.fitted {\n",
       "  /* fitted */\n",
       "  border: var(--sklearn-color-fitted-level-1) 1pt solid;\n",
       "  color: var(--sklearn-color-fitted-level-1);\n",
       "}\n",
       "\n",
       "/* On hover */\n",
       "div.sk-estimator:hover .sk-estimator-doc-link:hover,\n",
       ".sk-estimator-doc-link:hover,\n",
       "div.sk-label-container:hover .sk-estimator-doc-link:hover,\n",
       ".sk-estimator-doc-link:hover {\n",
       "  /* unfitted */\n",
       "  background-color: var(--sklearn-color-unfitted-level-3);\n",
       "  color: var(--sklearn-color-background);\n",
       "  text-decoration: none;\n",
       "}\n",
       "\n",
       "div.sk-estimator.fitted:hover .sk-estimator-doc-link.fitted:hover,\n",
       ".sk-estimator-doc-link.fitted:hover,\n",
       "div.sk-label-container:hover .sk-estimator-doc-link.fitted:hover,\n",
       ".sk-estimator-doc-link.fitted:hover {\n",
       "  /* fitted */\n",
       "  background-color: var(--sklearn-color-fitted-level-3);\n",
       "  color: var(--sklearn-color-background);\n",
       "  text-decoration: none;\n",
       "}\n",
       "\n",
       "/* Span, style for the box shown on hovering the info icon */\n",
       ".sk-estimator-doc-link span {\n",
       "  display: none;\n",
       "  z-index: 9999;\n",
       "  position: relative;\n",
       "  font-weight: normal;\n",
       "  right: .2ex;\n",
       "  padding: .5ex;\n",
       "  margin: .5ex;\n",
       "  width: min-content;\n",
       "  min-width: 20ex;\n",
       "  max-width: 50ex;\n",
       "  color: var(--sklearn-color-text);\n",
       "  box-shadow: 2pt 2pt 4pt #999;\n",
       "  /* unfitted */\n",
       "  background: var(--sklearn-color-unfitted-level-0);\n",
       "  border: .5pt solid var(--sklearn-color-unfitted-level-3);\n",
       "}\n",
       "\n",
       ".sk-estimator-doc-link.fitted span {\n",
       "  /* fitted */\n",
       "  background: var(--sklearn-color-fitted-level-0);\n",
       "  border: var(--sklearn-color-fitted-level-3);\n",
       "}\n",
       "\n",
       ".sk-estimator-doc-link:hover span {\n",
       "  display: block;\n",
       "}\n",
       "\n",
       "/* \"?\"-specific style due to the `<a>` HTML tag */\n",
       "\n",
       "#sk-container-id-1 a.estimator_doc_link {\n",
       "  float: right;\n",
       "  font-size: 1rem;\n",
       "  line-height: 1em;\n",
       "  font-family: monospace;\n",
       "  background-color: var(--sklearn-color-background);\n",
       "  border-radius: 1rem;\n",
       "  height: 1rem;\n",
       "  width: 1rem;\n",
       "  text-decoration: none;\n",
       "  /* unfitted */\n",
       "  color: var(--sklearn-color-unfitted-level-1);\n",
       "  border: var(--sklearn-color-unfitted-level-1) 1pt solid;\n",
       "}\n",
       "\n",
       "#sk-container-id-1 a.estimator_doc_link.fitted {\n",
       "  /* fitted */\n",
       "  border: var(--sklearn-color-fitted-level-1) 1pt solid;\n",
       "  color: var(--sklearn-color-fitted-level-1);\n",
       "}\n",
       "\n",
       "/* On hover */\n",
       "#sk-container-id-1 a.estimator_doc_link:hover {\n",
       "  /* unfitted */\n",
       "  background-color: var(--sklearn-color-unfitted-level-3);\n",
       "  color: var(--sklearn-color-background);\n",
       "  text-decoration: none;\n",
       "}\n",
       "\n",
       "#sk-container-id-1 a.estimator_doc_link.fitted:hover {\n",
       "  /* fitted */\n",
       "  background-color: var(--sklearn-color-fitted-level-3);\n",
       "}\n",
       "</style><div id=\"sk-container-id-1\" class=\"sk-top-container\"><div class=\"sk-text-repr-fallback\"><pre>LinearRegression()</pre><b>In a Jupyter environment, please rerun this cell to show the HTML representation or trust the notebook. <br />On GitHub, the HTML representation is unable to render, please try loading this page with nbviewer.org.</b></div><div class=\"sk-container\" hidden><div class=\"sk-item\"><div class=\"sk-estimator fitted sk-toggleable\"><input class=\"sk-toggleable__control sk-hidden--visually\" id=\"sk-estimator-id-1\" type=\"checkbox\" checked><label for=\"sk-estimator-id-1\" class=\"sk-toggleable__label fitted sk-toggleable__label-arrow fitted\">&nbsp;&nbsp;LinearRegression<a class=\"sk-estimator-doc-link fitted\" rel=\"noreferrer\" target=\"_blank\" href=\"https://scikit-learn.org/1.4/modules/generated/sklearn.linear_model.LinearRegression.html\">?<span>Documentation for LinearRegression</span></a><span class=\"sk-estimator-doc-link fitted\">i<span>Fitted</span></span></label><div class=\"sk-toggleable__content fitted\"><pre>LinearRegression()</pre></div> </div></div></div></div>"
      ],
      "text/plain": [
       "LinearRegression()"
      ]
     },
     "execution_count": 6,
     "metadata": {},
     "output_type": "execute_result"
    }
   ],
   "source": [
    "from sklearn.linear_model import LinearRegression\n",
    "\n",
    "lr = LinearRegression()\n",
    "\n",
    "lr.fit(X_train, y_train)"
   ]
  },
  {
   "cell_type": "code",
   "execution_count": 7,
   "id": "ced70920",
   "metadata": {},
   "outputs": [],
   "source": [
    "y_pred = lr.predict(X_test)"
   ]
  },
  {
   "cell_type": "code",
   "execution_count": 8,
   "id": "785efc0e",
   "metadata": {},
   "outputs": [
    {
     "data": {
      "text/plain": [
       "array([59.36550949, 48.54941197])"
      ]
     },
     "execution_count": 8,
     "metadata": {},
     "output_type": "execute_result"
    }
   ],
   "source": [
    "lr.coef_"
   ]
  },
  {
   "cell_type": "code",
   "execution_count": 9,
   "id": "d377e470",
   "metadata": {},
   "outputs": [
    {
     "data": {
      "text/plain": [
       "-1.9098121670941666"
      ]
     },
     "execution_count": 9,
     "metadata": {},
     "output_type": "execute_result"
    }
   ],
   "source": [
    "lr.intercept_"
   ]
  },
  {
   "cell_type": "code",
   "execution_count": 11,
   "id": "d63cef1e",
   "metadata": {},
   "outputs": [
    {
     "data": {
      "application/vnd.plotly.v1+json": {
       "config": {
        "plotlyServerURL": "https://plot.ly"
       },
       "data": [
        {
         "marker": {
          "size": 4
         },
         "mode": "markers",
         "name": "Data",
         "type": "scatter3d",
         "x": {
          "bdata": "GFEJo1de7b/LX4Fn3HHrv6y2oJfDBdi/9DpTkhpf6798OcH70mCiv5dUT+gT3fg/hKR58MnFrD9FmxL3uGWhP2A/phtmTNC/5AVeDjnCwr+la8G3ojLkPzxch+ePjuO/gVkqsTmY8D+yJ2duZ3rXPxe3cWMhLNk/nuisLNG71T90dJB4ZH++vwxm/ouO3OO/bnQjIbqexT9o5w7vWajSv6JYDCJ4S68/UZT/YfScwb+XXRdBpS/RPwPzaU8RZt8/eZOUExO4478j+uxwLB70v6WWbYFraPE/B2ati8+L8z8O4WYd98zQv/CfXIv28Og/c4+DPZaQwT/aViUcrJLbv5IcVcYuqQBA9JJx8Yzs0z/KxuOKCiv2P8etGAXUevy/fORmcMU99T/D8B4NvsEDQBC0L1Pk0fM/GxAkj3vH1L+EIV9Cqx6xPxrdmqf7Gtw/Gu75Lx773T9FFLsd8uW5v0dnUxswzOs/hbst8cgK9L9v9fmdnMb7PxzQ30cskNA/TLoQlHUstb9beCxXm73tPzpHnu8D9uM/XLVUMwv2uD9dfcikmCLmv+ztBczz+OE/vg9WlLYS0T8JiO8nf0zoP/xFZWXgdd6/ohQf3YdO/b+ujrbAcTrRv/0F2ee6kuE/FaDqyV7W3T9+IPR9dtjlv4v5hAddCPS/QbRm09iCAcBN25clBvX4v9Ojg6LvXPO/HmVULZ6aqT8kB9/OkisCQADpCB265OK/BqfRDAzX8z8600n9JqQHQMD/csOsA+i/s6tCA9a/779iV9Z/+vX3P/qxMBEeou0/uEq5ilop6b/eHbvErdXSv3rWMzoMksC/qu85GOkq979Yk15xAc/svwcdq5cUuee/61SwuV4I8D/1ReS+t+HhvxmcuO65vLM/0L6zMEHw7D+1dJyoXhrmv5Jsnhl5t8g/PZprQ/kl5D+n/iKn8kLVv2ulmYiww+s/utJcm6VQ8z/rvlZMOTDvP4mRQlub/PU/hqKoUCCK9L9vh+7YSprrP+r3BbbzheA/yeogijXowz9PLN5xIswFQL5U1xa8iNA/gaeJUmrl6T8=",
          "dtype": "f8"
         },
         "y": {
          "bdata": "v88pHOeH8L8pGoyJbcKpP0+MQeQMjNY/rRePKl0dzD9gYxzt+LzqPzlJXgvQmsi/K4QoMJRi178Fe4ors0vCP4G7dZKGfcC/fcqgh9Vd8j+iPiNALrzjP+DLDFLmxOI/gi3oEs2M0b8zdIWVuRn9v0uwoa+RKtI/KtyB9XK++b+cljl0PG75P1soIirovPc/tLoVlYFAl7+DyqvCC/LMP3eo8Ip3qse/Iql1a+F01j9qUSqSi9XzPy7m2AYLe9g/zteSnP7z6L8bLCovmOTivytBUSWzf9W/MiOiGfQEpr+loId08y6ev/jnFwepSug/csBalxI+1L9MydtB2kjHP0vFH8vqO/G/KPdch7LN67+49o3o8b/0P6epjtuPD+I/ycGmtoOH8b9bOq5l8I7LP4jWL/a4f/s/NQyjQ/M74b9CWZmxAQnrv+8mNTT3SM2/WV3GRo+Z6j/XaIPmx7/rv3sMCIZij7C/2rZW3T1G9r9W9IqpgyX7P5edth6OpOk/fsbIm1g+rr9zJpUMow7nvzIIFgaEjqc/dWuUyK+U+j9lhiAJgB3TP/0ur+GuxNo/mNBD1UZQ9L8e+uXLhlPsv+iT939e/OA/mtqYsKV30D+LZt5d0pneP9iNJVUdovE/oJ3fixtj9j+50RosU4zhvx2j/3KrWfU/KIV9dAU2AcA2b7/N6M3Vv7Wq3Wb29tW/5M9T5OTt878jzEyX/HgEwOqkCATyJ+E/K4t8L2/R0j+m8bFutLfhvw4nHkrO86Y/qQom9IhV9T9dPXd1RFTtPwHgNsG9efc/STjnJYcvwD+yrB7Dzgnkv9WHCjl3mvA/GAoMrUlX+j/6RsBqhZ+6PxdTIFgM1vU/R+liy7zI/D8d1R3P08rfP1KtUlwWz+c/LVaYDBClzr/fTwcj5O/5P4O0qp2V7vO/E/9vdWOj7T9P9Nqlczz0P2cj5pb15c+/IKkxlqKf6T9ohAc2Tjq3v3cnI/3h8tY/4ymzMlao9j+oBVoklXC+P3+Rp6udAe+/TedJ+ONrrD80GKyN7YjTv8NU9QbOUZE/x5zV3vHU8j8=",
          "dtype": "f8"
         },
         "z": {
          "bdata": "zAa0QTjCUsBrbU0v625UwAsX7I4qZzLAvHsAiih7PMAeHS8QIA4oQOHLmOwqNWFAVxne5RgVLsBCTX4tzUtCQNMFF+RA8U3AuxVXXBAARUBvCDCR/LdmQCauq2LtFjvAzekock2DTkBzkF3r4ZtQwFjgkbzqiURAb6AXUOMJU8CI29f82IgcQM2zZVeIpFxAD6NoEXRsUkDNwY32aAQ6QPiN8GaiTFNA1io7Xvv6OkBwB2td1JYXQBaQmgGwqVRAs5rq10bFUMACR59haOFrwGYXRKF8rSpAWKTac2m7RkA7xlIxTElQQOzWktgs+kZAi5CvmYOLGMA/rHdD4p5DQP/VC0LaWFFA8z0QUyBLVsCI+ykZHqdcQKw7AQsQ6mXAlspZmSn+NEBWRqdmdjhmQLlok/PpGGBAJeIMXZfCM8Ci+ovGUusowPqomkdgBDdAfknQV5ZNMkB0vN/KfMVCwGieSx242VVARsQYzp4bUsD6taZzzXlpQJYJA/kci1FAu2HjLi/DRUBKJpPeLc45wLxHVFe85UXAEEF2X/zJVUDoH8iwAMxMwDdkMuG4fzRATCK9UFc1U8DTcCLfsko2QGgCCWq+6ELAUM4NzSkRW8DkWZIpne9QQHqjoxxHOl9AQCIuBxBQUUClJJwwexxQwPNWkoG3TlZAJN8f5S1KcsCOvXqfEzdgwF54QCrmamLAXI7jQbamWMCPwk8bCtQvwEhBfyXurSjA8s9RMEc4XUDM51NoopdYQAgkWE8taTtAK/j4iM1mHEDCoIDnt5thQEUN6xtZ0FBAsJ1DYUyXSsCl/U/N0lIywKD8x+MrFhbA7vTFuHLjMkAtQjuR+6tEwMAWDDypgkHA9xybkTp6YkC7he6aCDhFQIrSJp8PFlJAABy51y8mHcDR0vRrvDA+QOQUfRoiHyTA3VMFKEdPZEC+60TBycU7wPiqe3iFa0PAIFV12J++SUCOu7uTs9U+QGSGwUGQUVpAKdOiGAatXUCgYeY2RC88QABPuB8YBylA/xUo8v02QUDZ1/mf1IpjQOvYd543TFFAjft062yaWkA=",
          "dtype": "f8"
         }
        },
        {
         "name": "Regression Plane",
         "opacity": 0.5,
         "type": "surface",
         "x": {
          "bdata": "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",
          "dtype": "f8",
          "shape": "20, 20"
         },
         "y": {
          "bdata": "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",
          "dtype": "f8",
          "shape": "20, 20"
         },
         "z": {
          "bdata": "jqAmOYkBcMBRDiUBwABuwIbb/I9t/mvAuqjUHhv8acDwdaytyPlnwCRDhDx292XAWRBcyyP1Y8CO3TNa0fJhwIZVF9L94F/A7u/G71jcW8BainYNtNdXwMIkJisP01PAV36rkdScT8AtswrNipNHwP7P0xCCFD/AVHMkD90DLsAgy/UaUArxPw7z8Io4IzFAs0QZCuaaQEDfD7rOL6RIQKHvHAa5nm7A1rz0lGacbMAMiswjFJpqwEBXpLLBl2jAdSR8QW+VZsCq8VPQHJNkwN6+K1/KkGLAFIwD7neOYMCQsrb5ShhdwPpMZhemE1nAZOcVNQEPVcDOgcVSXApRwG046uBuC0rAQ21JHCUCQsAqRFGvtvEzwLBufTAZ+Q7ADNFjxuBmKEDifnPsA0Y8QJ2K2rpLLEZAyVV7f5U1TkAnnuyZXzptwFxrxCgNOGvAkjict7o1acDGBXRGaDNnwPvSS9UVMWXAMKAjZMMuY8BkbfvycCxhwDJ1pgM9VF7AnA9WIZhPWsAGqgU/80pWwHBEtVxORlLAs73J9FKDTMCF8igwCXpEwLZOENd+4TjAtHCdm9adIcDod8vtoA4dQFZ0tMQ7VjdAWQX7pme0Q0CF0Jtrsb1LQNhNHph941FArEy8LQbWa8DiGZS8s9NpwBfna0th0WfATLRD2g7PZcCAgRtpvMxjwLZO8/dpymHA1DeWDS+QX8A+0kUriotbwKhs9UjlhlfAEAelZkCCU8D3QqkIN/tOwMl3CETt8UbANlnP/kbRPcDEhRvrZn0rwNCbnp0AnwJAzmn1nHNmMkAVgBuTgzxBQENLvFfNRUlAOIsujounUEDO8H5wMKxUQDL7i8GscWrAaMhjUFpvaMCclTvfB21mwNFiE261amTABjDr/GJoYsA7/cKLEGZgwN6UNTV8x1zASC/lUtfCWMCyyZRwMr5UwBxkRI6NuVDADf3nV9FpScDfMUeTh2BBwGLNTJ17rjLAcLhZoEDfBMCcvmzqVu0qQKL1d/4+iT1A/8XcQ+nNRkAtkX0IM9dOQCwuj2Y+cFNAwpPfSON0V0C4qVtVUw1pwO12M+QAC2fAIkQLc64IZcBWEeMBXAZjwIzeupAJBGHAgFclP24DXsDq8dRcyf5ZwFSMhHok+lXAviY0mH/1UcBNgsdrteFLwCO3Jqdr2EPA6tcLxUOeN8A4BinvwC4ewIyp7prGDSFAIuu41naZOEC7QP0vBVZEQOkLnvROX0xAjGufXEw0UkAi0e8+8ThWQLg2QCGWPVpAPVgr6fmoZ8ByJQN4p6ZlwKjy2gZVpGPA3L+ylQKiYcAiGhVJYD9fwIy0xGa7OlvA9E50hBY2V8Be6SOicTFTwJEHp3+ZWU7AYzwGu09QRsBy4srsC448wCyYEsfw9ijAMFLCLdm4DECa4PmurqkzQHu7HRwh3kFApYa+4GrnSUDqqK9SWvhQQIAOADX//FRAFnRQF6QBWUCs2aD5SAZdQMMG+3ygRGbA+NPSC05CZMAtoaqa+z9iwGJugimpPWDALne0cK12XMCYEWSOCHJYwACsE6xjbVTAakbDyb5oUMCoweXOM8hIwHr2RArqvkDAoFZIi0BrMcBABGwg0Ir1vzCsdQ7Ncy1AbGx8EHrMPkBkAd/Mhm9HQI3Mf5HQeE9A3ksQKw3BU0B0sWANssVXQAoXse9WyltAoHwB0vvOX0BItcoQR+BkwH6Cop/03WLAs096LqLbYMDOOaR6n7JdwDjUU5j6rVnAom4DtlWpVcAMCbPTsKRRwOpGxeIXQEvAvnskHs42Q8AgYQezCFs2wDArF6fUIRnAIJf3vjyUI0DsYb3osdw5QCB8/7ii90RATkegfewATUA8iSAhG4VSQNLucAPAiVZAalTB5WSOWkAAuhHICZNeQMsPMVXXS2FAzmOapO17Y8ADMXIzm3lhwHD8k4SR7l7A2JZDouzpWsBCMfO/R+VWwKzLot2i4FLAK8yk9vu3TcD/AAQysq5FwKdrxtrQSjvAl6oJo3pwJsAkBPPeWGkTQGVX/sDp7DRA4fYfpb5/QkALwsBpCIlKQJzGMBcpSVFAMiyB+c1NVUDIkdHbclJZQGD3Ib4XV11Aei45UN6tYEBFYWHBMLBiQFQSajiUF2LAid9Bx0EVYMB8WTOs3iVcwObz4sk5IVjAUI6S55QcVMC5KEIF8BdQwESG40WWJkjAGLtCgUwdQMDY30N5BSgwwIB8SQLwcbW/sJl+MkP6L0CacUCR2gdAQMg84VUkEUhA+ANBDTcNUECQaZHv2xFUQCTP4dGAFlhAvDQytCUbXEApTUFL5Q9gQPR/abw3EmJAv7KRLYoUZEDZwDnMOrNgwBwcI7bQYV3AhrbS0ytdWcDwUILxhlhVwFrrMQ/iU1HAhwvDWXqeSsBZQCKVMJVCwFrqAqHNFzXAClAFX+gUFMCyhADjshomQK7YwfrsHztAhbcBQkCZRUCzgqIGiqJNQO6moeXp1VJAhgzyx47aVkAackKqM99aQLLXkozY415ApJ5xtz50YUBv0ZkokXZjQDoEwpnjeGVAvN4SwMKdXsAoecLdHZlawJITcvt4lFbA+q0hGdSPUsDJkKJtXhZNwJ3FAakUDUXA3fTByJUHOsAKvQB/BOojwEzfBCdFdhhALs4C0yQwNkBBMiIuXCFDQG/9wvKlKktATuSx2/eZUUDkSQK+nJ5VQHqvUqBBo1lAEBWjguanXUBTvXmyRdZgQB/woSOY2GJA6iLKlOraZEC1VfIFPd1mQMg7sucP1VvANNZhBWvQV8CecBEjxstTwA0WgoFCjk/A4UrhvPiER8Bp/4DwXfc+wBrSfs6UyS3AsNQiIJLc8j+jw0OrXEAxQP+sQhp4qUBAKXjj3sGySECsIcLRBV5QQEKHErSqYlRA2Oxilk9nWEBuUrN49GtcQALcga1MOGBAzQ6qHp86YkCZQdKP8TxkQGR0+gBEP2ZAL6cicpZBaEDUmFEPXQxZwD4zAS24B1XAqM2wShMDUcAi0MDQ3PxJwPYEIAyT80HAlHP+jpLUM8DA6eYt+A8OwEByCQcpoShAeE/GDChjPEDq8gPL3TpGQBS+pI8nRE5AoMQiqrgmU0A4KnOMXStXQMyPw24CMFtAZPUTUac0X0B8LbIZppxhQEhg2or4nmNAE5MC/EqhZUDexSptnaNnQKn4Ut7vpWlA4PXwNqpDVsBKkKBUBT9SwGhVoOTAdEzAOor/H3drRMAcfr22WsQ4wIjP91qOYyHAYLoWbzGDHUDwRAflX3M3QKRtJLf5wkNA0jjFe0PMS0D+ATOgxupRQJRng4Jr71VALM3TZBD0WUDAMiRHtfhdQCxMuhSt/mBA9n7ihf8AY0DCsQr3UQNlQI3kMmikBWdAWBdb2fYHaUAjSoNKSQprQOpSkF73elPAqdp/+KTsTsB9D98zW+NGwJ6IfN4itD3AjOR1qh5DK8CQIDWgIYgDQG46SL2XgzJAY+hEoxVLQUCPs+VnX1RJQF4/Q5bUrlBA9KSTeHmzVECKCuRaHrhYQCJwND3DvFxA22rCD7RgYECmneqABmNiQHHQEvJYZWRAPAM7Y6tnZkAINmPU/WloQNNoi0VQbGpAnpuztqJubED0ry+GRLJQwL+Uvkc/W0nAk8kdg/VRQcDK/Pl8V5EywJAzw50f9gPAzF8SK58nK0BCxsoeY6Y9QE0uBlR73EZAefmmGMXlTkBU4qNuh3dTQOhH9FAsfFdAgK1EM9GAW0AWE5UVdoVfQFa88nsNxWFAIe8a7V/HY0DsIUNessllQLdUa88EzGdAgoeTQFfOaUBOuruxqdBrQBjt4yL80m1A/RmeWyPTS8DTTv2W2clDwE4HuaQfgTfAyMPdbTC6HcDMSpTbDkghQL67C/eatjhADakmQJdkREA5dMcE4W1MQLIftGSVO1JASoUERzpAVkDe6lQp30RaQHZQpQuESV5ABtv6dhQnYUDQDSPoZiljQJxAS1m5K2VAZnNzygsuZ0Aypps7XjBpQP7Yw6ywMmtAyAvsHQM1bUCUPhSPVTdvQBXU3Kq9QUbA1hF4zOdwPMD89myGqLwowPDWWDD6oQ1ANrFMz9LGM0DHI0css+xBQPXu5/D89UlAEF3EWqP/UECmwhQ9SARVQD4oZR/tCFlA0o21AZINXUC0+QJyG4lgQIAsK+Nti2JASl9TVMCNZEAWknvFEpBmQODEozZlkmhArPfLp7eUakB4KvQYCpdsQEJdHIpcmW5AB0iifddNcEA=",
          "dtype": "f8",
          "shape": "20, 20"
         }
        }
       ],
       "layout": {
        "scene": {
         "xaxis": {
          "title": {
           "text": "col1"
          }
         },
         "yaxis": {
          "title": {
           "text": "col2"
          }
         },
         "zaxis": {
          "title": {
           "text": "y"
          }
         }
        },
        "template": {
         "data": {
          "bar": [
           {
            "error_x": {
             "color": "#2a3f5f"
            },
            "error_y": {
             "color": "#2a3f5f"
            },
            "marker": {
             "line": {
              "color": "#E5ECF6",
              "width": 0.5
             },
             "pattern": {
              "fillmode": "overlay",
              "size": 10,
              "solidity": 0.2
             }
            },
            "type": "bar"
           }
          ],
          "barpolar": [
           {
            "marker": {
             "line": {
              "color": "#E5ECF6",
              "width": 0.5
             },
             "pattern": {
              "fillmode": "overlay",
              "size": 10,
              "solidity": 0.2
             }
            },
            "type": "barpolar"
           }
          ],
          "carpet": [
           {
            "aaxis": {
             "endlinecolor": "#2a3f5f",
             "gridcolor": "white",
             "linecolor": "white",
             "minorgridcolor": "white",
             "startlinecolor": "#2a3f5f"
            },
            "baxis": {
             "endlinecolor": "#2a3f5f",
             "gridcolor": "white",
             "linecolor": "white",
             "minorgridcolor": "white",
             "startlinecolor": "#2a3f5f"
            },
            "type": "carpet"
           }
          ],
          "choropleth": [
           {
            "colorbar": {
             "outlinewidth": 0,
             "ticks": ""
            },
            "type": "choropleth"
           }
          ],
          "contour": [
           {
            "colorbar": {
             "outlinewidth": 0,
             "ticks": ""
            },
            "colorscale": [
             [
              0,
              "#0d0887"
             ],
             [
              0.1111111111111111,
              "#46039f"
             ],
             [
              0.2222222222222222,
              "#7201a8"
             ],
             [
              0.3333333333333333,
              "#9c179e"
             ],
             [
              0.4444444444444444,
              "#bd3786"
             ],
             [
              0.5555555555555556,
              "#d8576b"
             ],
             [
              0.6666666666666666,
              "#ed7953"
             ],
             [
              0.7777777777777778,
              "#fb9f3a"
             ],
             [
              0.8888888888888888,
              "#fdca26"
             ],
             [
              1,
              "#f0f921"
             ]
            ],
            "type": "contour"
           }
          ],
          "contourcarpet": [
           {
            "colorbar": {
             "outlinewidth": 0,
             "ticks": ""
            },
            "type": "contourcarpet"
           }
          ],
          "heatmap": [
           {
            "colorbar": {
             "outlinewidth": 0,
             "ticks": ""
            },
            "colorscale": [
             [
              0,
              "#0d0887"
             ],
             [
              0.1111111111111111,
              "#46039f"
             ],
             [
              0.2222222222222222,
              "#7201a8"
             ],
             [
              0.3333333333333333,
              "#9c179e"
             ],
             [
              0.4444444444444444,
              "#bd3786"
             ],
             [
              0.5555555555555556,
              "#d8576b"
             ],
             [
              0.6666666666666666,
              "#ed7953"
             ],
             [
              0.7777777777777778,
              "#fb9f3a"
             ],
             [
              0.8888888888888888,
              "#fdca26"
             ],
             [
              1,
              "#f0f921"
             ]
            ],
            "type": "heatmap"
           }
          ],
          "histogram": [
           {
            "marker": {
             "pattern": {
              "fillmode": "overlay",
              "size": 10,
              "solidity": 0.2
             }
            },
            "type": "histogram"
           }
          ],
          "histogram2d": [
           {
            "colorbar": {
             "outlinewidth": 0,
             "ticks": ""
            },
            "colorscale": [
             [
              0,
              "#0d0887"
             ],
             [
              0.1111111111111111,
              "#46039f"
             ],
             [
              0.2222222222222222,
              "#7201a8"
             ],
             [
              0.3333333333333333,
              "#9c179e"
             ],
             [
              0.4444444444444444,
              "#bd3786"
             ],
             [
              0.5555555555555556,
              "#d8576b"
             ],
             [
              0.6666666666666666,
              "#ed7953"
             ],
             [
              0.7777777777777778,
              "#fb9f3a"
             ],
             [
              0.8888888888888888,
              "#fdca26"
             ],
             [
              1,
              "#f0f921"
             ]
            ],
            "type": "histogram2d"
           }
          ],
          "histogram2dcontour": [
           {
            "colorbar": {
             "outlinewidth": 0,
             "ticks": ""
            },
            "colorscale": [
             [
              0,
              "#0d0887"
             ],
             [
              0.1111111111111111,
              "#46039f"
             ],
             [
              0.2222222222222222,
              "#7201a8"
             ],
             [
              0.3333333333333333,
              "#9c179e"
             ],
             [
              0.4444444444444444,
              "#bd3786"
             ],
             [
              0.5555555555555556,
              "#d8576b"
             ],
             [
              0.6666666666666666,
              "#ed7953"
             ],
             [
              0.7777777777777778,
              "#fb9f3a"
             ],
             [
              0.8888888888888888,
              "#fdca26"
             ],
             [
              1,
              "#f0f921"
             ]
            ],
            "type": "histogram2dcontour"
           }
          ],
          "mesh3d": [
           {
            "colorbar": {
             "outlinewidth": 0,
             "ticks": ""
            },
            "type": "mesh3d"
           }
          ],
          "parcoords": [
           {
            "line": {
             "colorbar": {
              "outlinewidth": 0,
              "ticks": ""
             }
            },
            "type": "parcoords"
           }
          ],
          "pie": [
           {
            "automargin": true,
            "type": "pie"
           }
          ],
          "scatter": [
           {
            "fillpattern": {
             "fillmode": "overlay",
             "size": 10,
             "solidity": 0.2
            },
            "type": "scatter"
           }
          ],
          "scatter3d": [
           {
            "line": {
             "colorbar": {
              "outlinewidth": 0,
              "ticks": ""
             }
            },
            "marker": {
             "colorbar": {
              "outlinewidth": 0,
              "ticks": ""
             }
            },
            "type": "scatter3d"
           }
          ],
          "scattercarpet": [
           {
            "marker": {
             "colorbar": {
              "outlinewidth": 0,
              "ticks": ""
             }
            },
            "type": "scattercarpet"
           }
          ],
          "scattergeo": [
           {
            "marker": {
             "colorbar": {
              "outlinewidth": 0,
              "ticks": ""
             }
            },
            "type": "scattergeo"
           }
          ],
          "scattergl": [
           {
            "marker": {
             "colorbar": {
              "outlinewidth": 0,
              "ticks": ""
             }
            },
            "type": "scattergl"
           }
          ],
          "scattermap": [
           {
            "marker": {
             "colorbar": {
              "outlinewidth": 0,
              "ticks": ""
             }
            },
            "type": "scattermap"
           }
          ],
          "scattermapbox": [
           {
            "marker": {
             "colorbar": {
              "outlinewidth": 0,
              "ticks": ""
             }
            },
            "type": "scattermapbox"
           }
          ],
          "scatterpolar": [
           {
            "marker": {
             "colorbar": {
              "outlinewidth": 0,
              "ticks": ""
             }
            },
            "type": "scatterpolar"
           }
          ],
          "scatterpolargl": [
           {
            "marker": {
             "colorbar": {
              "outlinewidth": 0,
              "ticks": ""
             }
            },
            "type": "scatterpolargl"
           }
          ],
          "scatterternary": [
           {
            "marker": {
             "colorbar": {
              "outlinewidth": 0,
              "ticks": ""
             }
            },
            "type": "scatterternary"
           }
          ],
          "surface": [
           {
            "colorbar": {
             "outlinewidth": 0,
             "ticks": ""
            },
            "colorscale": [
             [
              0,
              "#0d0887"
             ],
             [
              0.1111111111111111,
              "#46039f"
             ],
             [
              0.2222222222222222,
              "#7201a8"
             ],
             [
              0.3333333333333333,
              "#9c179e"
             ],
             [
              0.4444444444444444,
              "#bd3786"
             ],
             [
              0.5555555555555556,
              "#d8576b"
             ],
             [
              0.6666666666666666,
              "#ed7953"
             ],
             [
              0.7777777777777778,
              "#fb9f3a"
             ],
             [
              0.8888888888888888,
              "#fdca26"
             ],
             [
              1,
              "#f0f921"
             ]
            ],
            "type": "surface"
           }
          ],
          "table": [
           {
            "cells": {
             "fill": {
              "color": "#EBF0F8"
             },
             "line": {
              "color": "white"
             }
            },
            "header": {
             "fill": {
              "color": "#C8D4E3"
             },
             "line": {
              "color": "white"
             }
            },
            "type": "table"
           }
          ]
         },
         "layout": {
          "annotationdefaults": {
           "arrowcolor": "#2a3f5f",
           "arrowhead": 0,
           "arrowwidth": 1
          },
          "autotypenumbers": "strict",
          "coloraxis": {
           "colorbar": {
            "outlinewidth": 0,
            "ticks": ""
           }
          },
          "colorscale": {
           "diverging": [
            [
             0,
             "#8e0152"
            ],
            [
             0.1,
             "#c51b7d"
            ],
            [
             0.2,
             "#de77ae"
            ],
            [
             0.3,
             "#f1b6da"
            ],
            [
             0.4,
             "#fde0ef"
            ],
            [
             0.5,
             "#f7f7f7"
            ],
            [
             0.6,
             "#e6f5d0"
            ],
            [
             0.7,
             "#b8e186"
            ],
            [
             0.8,
             "#7fbc41"
            ],
            [
             0.9,
             "#4d9221"
            ],
            [
             1,
             "#276419"
            ]
           ],
           "sequential": [
            [
             0,
             "#0d0887"
            ],
            [
             0.1111111111111111,
             "#46039f"
            ],
            [
             0.2222222222222222,
             "#7201a8"
            ],
            [
             0.3333333333333333,
             "#9c179e"
            ],
            [
             0.4444444444444444,
             "#bd3786"
            ],
            [
             0.5555555555555556,
             "#d8576b"
            ],
            [
             0.6666666666666666,
             "#ed7953"
            ],
            [
             0.7777777777777778,
             "#fb9f3a"
            ],
            [
             0.8888888888888888,
             "#fdca26"
            ],
            [
             1,
             "#f0f921"
            ]
           ],
           "sequentialminus": [
            [
             0,
             "#0d0887"
            ],
            [
             0.1111111111111111,
             "#46039f"
            ],
            [
             0.2222222222222222,
             "#7201a8"
            ],
            [
             0.3333333333333333,
             "#9c179e"
            ],
            [
             0.4444444444444444,
             "#bd3786"
            ],
            [
             0.5555555555555556,
             "#d8576b"
            ],
            [
             0.6666666666666666,
             "#ed7953"
            ],
            [
             0.7777777777777778,
             "#fb9f3a"
            ],
            [
             0.8888888888888888,
             "#fdca26"
            ],
            [
             1,
             "#f0f921"
            ]
           ]
          },
          "colorway": [
           "#636efa",
           "#EF553B",
           "#00cc96",
           "#ab63fa",
           "#FFA15A",
           "#19d3f3",
           "#FF6692",
           "#B6E880",
           "#FF97FF",
           "#FECB52"
          ],
          "font": {
           "color": "#2a3f5f"
          },
          "geo": {
           "bgcolor": "white",
           "lakecolor": "white",
           "landcolor": "#E5ECF6",
           "showlakes": true,
           "showland": true,
           "subunitcolor": "white"
          },
          "hoverlabel": {
           "align": "left"
          },
          "hovermode": "closest",
          "mapbox": {
           "style": "light"
          },
          "paper_bgcolor": "white",
          "plot_bgcolor": "#E5ECF6",
          "polar": {
           "angularaxis": {
            "gridcolor": "white",
            "linecolor": "white",
            "ticks": ""
           },
           "bgcolor": "#E5ECF6",
           "radialaxis": {
            "gridcolor": "white",
            "linecolor": "white",
            "ticks": ""
           }
          },
          "scene": {
           "xaxis": {
            "backgroundcolor": "#E5ECF6",
            "gridcolor": "white",
            "gridwidth": 2,
            "linecolor": "white",
            "showbackground": true,
            "ticks": "",
            "zerolinecolor": "white"
           },
           "yaxis": {
            "backgroundcolor": "#E5ECF6",
            "gridcolor": "white",
            "gridwidth": 2,
            "linecolor": "white",
            "showbackground": true,
            "ticks": "",
            "zerolinecolor": "white"
           },
           "zaxis": {
            "backgroundcolor": "#E5ECF6",
            "gridcolor": "white",
            "gridwidth": 2,
            "linecolor": "white",
            "showbackground": true,
            "ticks": "",
            "zerolinecolor": "white"
           }
          },
          "shapedefaults": {
           "line": {
            "color": "#2a3f5f"
           }
          },
          "ternary": {
           "aaxis": {
            "gridcolor": "white",
            "linecolor": "white",
            "ticks": ""
           },
           "baxis": {
            "gridcolor": "white",
            "linecolor": "white",
            "ticks": ""
           },
           "bgcolor": "#E5ECF6",
           "caxis": {
            "gridcolor": "white",
            "linecolor": "white",
            "ticks": ""
           }
          },
          "title": {
           "x": 0.05
          },
          "xaxis": {
           "automargin": true,
           "gridcolor": "white",
           "linecolor": "white",
           "ticks": "",
           "title": {
            "standoff": 15
           },
           "zerolinecolor": "white",
           "zerolinewidth": 2
          },
          "yaxis": {
           "automargin": true,
           "gridcolor": "white",
           "linecolor": "white",
           "ticks": "",
           "title": {
            "standoff": 15
           },
           "zerolinecolor": "white",
           "zerolinewidth": 2
          }
         }
        },
        "title": {
         "text": "3D Regression Plane"
        }
       }
      }
     },
     "metadata": {},
     "output_type": "display_data"
    }
   ],
   "source": [
    "import numpy as np\n",
    "\n",
    "x_surf, y_surf = np.meshgrid(\n",
    "    np.linspace(df[\"col1\"].min(), df[\"col1\"].max(), 20),\n",
    "    np.linspace(df[\"col2\"].min(), df[\"col2\"].max(), 20)\n",
    ")\n",
    "z_surf = lr.coef_[0] * x_surf + lr.coef_[1] * y_surf + lr.intercept_\n",
    "\n",
    "import plotly.graph_objects as go\n",
    "\n",
    "plane = go.Surface(x=x_surf, y=y_surf, z=z_surf, opacity=0.5, name=\"Regression Plane\")\n",
    "scatter = go.Scatter3d(\n",
    "    x=df[\"col1\"], y=df[\"col2\"], z=df[\"y\"],\n",
    "    mode='markers', marker=dict(size=4), name=\"Data\"\n",
    ")\n",
    "\n",
    "fig_plane = go.Figure(data=[scatter, plane])\n",
    "fig_plane.update_layout(\n",
    "    scene=dict(\n",
    "        xaxis_title='col1',\n",
    "        yaxis_title='col2',\n",
    "        zaxis_title='y'\n",
    "    ),\n",
    "    title=\"3D Regression Plane\"\n",
    ")\n",
    "fig_plane.show()"
   ]
  },
  {
   "cell_type": "code",
   "execution_count": 16,
   "id": "b1400aa3",
   "metadata": {},
   "outputs": [
    {
     "data": {
      "image/png": "[encoded data removed]",
      "text/plain": [
       "<Figure size 640x480 with 1 Axes>"
      ]
     },
     "metadata": {},
     "output_type": "display_data"
    }
   ],
   "source": [
    "import matplotlib.pyplot as plt\n",
    "\n",
    "img = plt.imread(\"mlr.png\")\n",
    "plt.imshow(img)\n",
    "plt.axis('off') # optional: Hide axis better view\n",
    "plt.show()"
   ]
  }
 ],
 "metadata": {
  "kernelspec": {
   "display_name": "Python 3",
   "language": "python",
   "name": "python3"
  },
  "language_info": {
   "codemirror_mode": {
    "name": "ipython",
    "version": 3
   },
   "file_extension": ".py",
   "mimetype": "text/x-python",
   "name": "python",
   "nbconvert_exporter": "python",
   "pygments_lexer": "ipython3",
   "version": "3.12.1"
  }
 },
 "nbformat": 4,
 "nbformat_minor": 5
}
